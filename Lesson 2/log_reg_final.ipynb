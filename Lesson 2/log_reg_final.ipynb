{
 "cells": [
  {
   "cell_type": "code",
   "execution_count": 1,
   "metadata": {},
   "outputs": [],
   "source": [
    "import torch\n",
    "import torch.nn as nn\n",
    "import torch.nn.functional as F\n",
    "import torch.optim as optim\n",
    "\n",
    "import numpy as np\n",
    "import scipy.stats as stats\n",
    "import matplotlib.pyplot as plt\n",
    "\n",
    "%matplotlib inline"
   ]
  },
  {
   "cell_type": "code",
   "execution_count": 2,
   "metadata": {},
   "outputs": [],
   "source": [
    "# параметры распределений\n",
    "mu0, sigma0 = -2., 1.\n",
    "mu1, sigma1 = 3., 2."
   ]
  },
  {
   "cell_type": "code",
   "execution_count": 3,
   "metadata": {},
   "outputs": [],
   "source": [
    "def sample(d0, d1, n=32):\n",
    "    x0 = d0.sample((n,))\n",
    "    x1 = d1.sample((n,))\n",
    "    y0 = torch.zeros((n, 1))\n",
    "    y1 = torch.ones((n, 1))\n",
    "    return torch.cat([x0, x1], 0), torch.cat([y0, y1], 0)"
   ]
  },
  {
   "cell_type": "code",
   "execution_count": 4,
   "metadata": {},
   "outputs": [],
   "source": [
    "d0 = torch.distributions.Normal(torch.tensor([mu0]), torch.tensor([sigma0]))\n",
    "d1 = torch.distributions.Normal(torch.tensor([mu1]), torch.tensor([sigma1]))"
   ]
  },
  {
   "cell_type": "code",
   "execution_count": 5,
   "metadata": {},
   "outputs": [],
   "source": [
    "x_scale = np.linspace(-10, 10, 5000)\n",
    "d0_pdf = stats.norm.pdf(x_scale, mu0, sigma0)\n",
    "d1_pdf = stats.norm.pdf(x_scale, mu1, sigma1)\n",
    "x_tensor = torch.tensor(x_scale.reshape(-1, 1), dtype=torch.float)\n",
    "ratio = d1_pdf / (d1_pdf + d0_pdf)"
   ]
  },
  {
   "cell_type": "code",
   "execution_count": 14,
   "metadata": {},
   "outputs": [
    {
     "data": {
      "text/plain": [
       "(5000,)"
      ]
     },
     "execution_count": 14,
     "metadata": {},
     "output_type": "execute_result"
    }
   ],
   "source": [
    "d1_pdf.shape"
   ]
  },
  {
   "cell_type": "code",
   "execution_count": 21,
   "metadata": {},
   "outputs": [
    {
     "name": "stdout",
     "output_type": "stream",
     "text": [
      "[tensor([-0.4648]), tensor(0.7458)]\n"
     ]
    }
   ],
   "source": [
    "layer = nn.Linear(1, 1)\n",
    "print([p.data[0] for p in layer.parameters()])\n",
    "layer_opt = optim.SGD(lr=1e-3, params=list(layer.parameters()))"
   ]
  },
  {
   "cell_type": "code",
   "execution_count": 28,
   "metadata": {},
   "outputs": [
    {
     "name": "stdout",
     "output_type": "stream",
     "text": [
      "tensor([[-0.2978],\n",
      "        [-0.4887],\n",
      "        [ 0.4453],\n",
      "        [-0.3378],\n",
      "        [ 0.3450]])\n",
      "tensor([-0.1620,  0.7428, -0.1752,  0.9383, -0.0906])\n",
      "tensor([[ 0.3947, -0.3793, -0.1041, -0.1631, -0.0897]])\n",
      "tensor([ 0.1007])\n"
     ]
    }
   ],
   "source": [
    "net = nn.Sequential(nn.Linear(1, 5), nn.ReLU(), nn.Linear(5, 1))\n",
    "for p in net.parameters():\n",
    "    print(p.data)\n",
    "net_opt = optim.SGD(lr=1e-3, params=list(net.parameters()))"
   ]
  },
  {
   "cell_type": "code",
   "execution_count": 29,
   "metadata": {},
   "outputs": [
    {
     "data": {
      "image/png": "[encoded data removed]",
      "text/plain": [
       "<Figure size 432x288 with 1 Axes>"
      ]
     },
     "metadata": {},
     "output_type": "display_data"
    }
   ],
   "source": [
    "with torch.no_grad():\n",
    "    dist = F.sigmoid(net(x_tensor)).numpy()\n",
    "    \n",
    "plt.plot(x_scale, d0_pdf*2, label='d0') # умножение на 2 для красоты графиков, на распределения не влияет\n",
    "plt.plot(x_scale, d1_pdf*2, label='d1')\n",
    "plt.plot(x_scale, dist.flatten(), label='pred')\n",
    "plt.plot(x_scale, ratio, label='ratio')\n",
    "plt.legend();"
   ]
  },
  {
   "cell_type": "code",
   "execution_count": 30,
   "metadata": {},
   "outputs": [
    {
     "name": "stdout",
     "output_type": "stream",
     "text": [
      "Ошибка после 0 итераций: 0.611510\n",
      "Ошибка после 1 итераций: 0.476684\n",
      "Ошибка после 2 итераций: 0.389808\n",
      "Ошибка после 3 итераций: 0.325071\n",
      "Ошибка после 4 итераций: 0.276885\n",
      "Ошибка после 5 итераций: 0.241122\n",
      "Ошибка после 6 итераций: 0.217831\n",
      "Ошибка после 7 итераций: 0.199687\n",
      "Ошибка после 8 итераций: 0.187180\n",
      "Ошибка после 9 итераций: 0.178333\n",
      "Ошибка после 10 итераций: 0.171168\n",
      "Ошибка после 11 итераций: 0.163939\n",
      "Ошибка после 12 итераций: 0.159253\n",
      "Ошибка после 13 итераций: 0.154195\n",
      "Ошибка после 14 итераций: 0.152541\n",
      "Ошибка после 15 итераций: 0.149665\n",
      "Ошибка после 16 итераций: 0.149269\n",
      "Ошибка после 17 итераций: 0.143781\n",
      "Ошибка после 18 итераций: 0.142916\n",
      "Ошибка после 19 итераций: 0.139960\n",
      "Ошибка после 20 итераций: 0.140456\n",
      "Ошибка после 21 итераций: 0.139855\n",
      "Ошибка после 22 итераций: 0.138141\n",
      "Ошибка после 23 итераций: 0.136411\n",
      "Ошибка после 24 итераций: 0.136355\n",
      "Ошибка после 25 итераций: 0.134665\n",
      "Ошибка после 26 итераций: 0.133987\n",
      "Ошибка после 27 итераций: 0.132765\n",
      "Ошибка после 28 итераций: 0.134297\n",
      "Ошибка после 29 итераций: 0.130985\n",
      "Ошибка после 30 итераций: 0.131589\n",
      "Ошибка после 31 итераций: 0.131539\n",
      "Ошибка после 32 итераций: 0.131451\n",
      "Ошибка после 33 итераций: 0.132068\n",
      "Ошибка после 34 итераций: 0.131255\n",
      "Ошибка после 35 итераций: 0.130003\n",
      "Ошибка после 36 итераций: 0.127847\n",
      "Ошибка после 37 итераций: 0.128765\n",
      "Ошибка после 38 итераций: 0.129312\n",
      "Ошибка после 39 итераций: 0.129568\n"
     ]
    }
   ],
   "source": [
    "log_freq = 500\n",
    "for i in range(20000):\n",
    "    if i%log_freq == 0:\n",
    "        with torch.no_grad():\n",
    "            x, y = sample(d0, d1, 100000)\n",
    "            out = F.sigmoid(net(x))\n",
    "            loss = F.binary_cross_entropy(out, y)\n",
    "        print('Ошибка после %d итераций: %f' %(i/log_freq, loss))\n",
    "    net_opt.zero_grad()\n",
    "    x, y = sample(d0, d1, 1024)\n",
    "    \n",
    "#     out = F.sigmoid(layer(x))\n",
    "#     loss = F.binary_cross_entropy(out, y)\n",
    "    \n",
    "    out = net(x)\n",
    "    loss = F.binary_cross_entropy_with_logits(out, y)\n",
    "    \n",
    "    loss.backward()\n",
    "    net_opt.step()"
   ]
  },
  {
   "cell_type": "code",
   "execution_count": 31,
   "metadata": {},
   "outputs": [],
   "source": [
    "with torch.no_grad():\n",
    "    dist = F.sigmoid(net(x_tensor)).numpy()"
   ]
  },
  {
   "cell_type": "code",
   "execution_count": 32,
   "metadata": {},
   "outputs": [
    {
     "data": {
      "image/png": "[encoded data removed]",
      "text/plain": [
       "<Figure size 432x288 with 1 Axes>"
      ]
     },
     "metadata": {},
     "output_type": "display_data"
    }
   ],
   "source": [
    "plt.plot(x_scale, d0_pdf*2, label='d0') # умножение на 2 для красоты графиков, на распределения не влияет\n",
    "plt.plot(x_scale, d1_pdf*2, label='d1')\n",
    "plt.plot(x_scale, dist.flatten(), label='pred')\n",
    "plt.plot(x_scale, ratio, label='ratio')\n",
    "plt.legend();"
   ]
  },
  {
   "cell_type": "code",
   "execution_count": 11,
   "metadata": {},
   "outputs": [
    {
     "name": "stdout",
     "output_type": "stream",
     "text": [
      "[tensor([ 1.5739]), tensor(0.2493)]\n"
     ]
    }
   ],
   "source": [
    "print([p.data[0] for p in layer.parameters()])"
   ]
  },
  {
   "cell_type": "code",
   "execution_count": 12,
   "metadata": {},
   "outputs": [
    {
     "data": {
      "text/plain": [
       "tensor(-inf.)"
      ]
     },
     "execution_count": 12,
     "metadata": {},
     "output_type": "execute_result"
    }
   ],
   "source": [
    "torch.log(F.sigmoid(torch.tensor(-100.)))"
   ]
  },
  {
   "cell_type": "code",
   "execution_count": 13,
   "metadata": {},
   "outputs": [
    {
     "data": {
      "text/plain": [
       "tensor(-100.)"
      ]
     },
     "execution_count": 13,
     "metadata": {},
     "output_type": "execute_result"
    }
   ],
   "source": [
    "F.logsigmoid(torch.tensor(-100.))"
   ]
  },
  {
   "cell_type": "code",
   "execution_count": 33,
   "metadata": {},
   "outputs": [
    {
     "data": {
      "text/plain": [
       "Sequential(\n",
       "  (0): Linear(in_features=1, out_features=5, bias=True)\n",
       "  (1): ReLU()\n",
       "  (2): Linear(in_features=5, out_features=1, bias=True)\n",
       ")"
      ]
     },
     "execution_count": 33,
     "metadata": {},
     "output_type": "execute_result"
    }
   ],
   "source": [
    "net"
   ]
  },
  {
   "cell_type": "code",
   "execution_count": null,
   "metadata": {},
   "outputs": [],
   "source": []
  }
 ],
 "metadata": {
  "kernelspec": {
   "display_name": "Python 3",
   "language": "python",
   "name": "python3"
  },
  "language_info": {
   "codemirror_mode": {
    "name": "ipython",
    "version": 3
   },
   "file_extension": ".py",
   "mimetype": "text/x-python",
   "name": "python",
   "nbconvert_exporter": "python",
   "pygments_lexer": "ipython3",
   "version": "3.6.3"
  }
 },
 "nbformat": 4,
 "nbformat_minor": 2
}
